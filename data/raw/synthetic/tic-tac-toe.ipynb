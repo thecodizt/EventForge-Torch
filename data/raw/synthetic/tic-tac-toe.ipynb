{
 "cells": [
  {
   "cell_type": "code",
   "execution_count": 37,
   "metadata": {},
   "outputs": [],
   "source": [
    "import numpy as np"
   ]
  },
  {
   "cell_type": "code",
   "execution_count": 38,
   "metadata": {},
   "outputs": [],
   "source": [
    "def check_win(board, player):\n",
    "    win_conditions = [\n",
    "        np.all(board[0, :] == player),\n",
    "        np.all(board[1, :] == player),\n",
    "        np.all(board[2, :] == player),\n",
    "        np.all(board[:, 0] == player),\n",
    "        np.all(board[:, 1] == player),\n",
    "        np.all(board[:, 2] == player),\n",
    "        np.all(np.diag(board) == player),\n",
    "        np.all(np.diag(np.fliplr(board)) == player)\n",
    "    ]\n",
    "    return any(win_conditions)"
   ]
  },
  {
   "cell_type": "code",
   "execution_count": 39,
   "metadata": {},
   "outputs": [],
   "source": [
    "def make_random_move(board):\n",
    "    empty_cells = np.argwhere(board == 0)\n",
    "    if len(empty_cells) == 0:\n",
    "        return None\n",
    "    row, col = empty_cells[np.random.randint(len(empty_cells))]\n",
    "    return row, col"
   ]
  },
  {
   "cell_type": "code",
   "execution_count": 46,
   "metadata": {},
   "outputs": [],
   "source": [
    "def simulate_game():\n",
    "    game_states = []\n",
    "    board = np.zeros((3, 3))\n",
    "    initial_state = {\n",
    "        'agent': 0,\n",
    "        'state': board.copy().flatten()\n",
    "    }\n",
    "    game_states.append(initial_state)\n",
    "    \n",
    "    player = 1\n",
    "    while True:\n",
    "        move = make_random_move(board)\n",
    "        if move is None:\n",
    "            return game_states\n",
    "        row, col = move\n",
    "        board[row, col] = player\n",
    "        game_states.append({\n",
    "            'agent': player,\n",
    "            'state': board.copy().flatten()\n",
    "        })\n",
    "        if check_win(board, player):\n",
    "            return game_states\n",
    "        # We use player = 3 - player to switch between players 1 and 2.\n",
    "        # When player is 1, 3 - 1 = 2, so it switches to player 2.\n",
    "        # When player is 2, 3 - 2 = 1, so it switches back to player 1.\n",
    "        # This is a concise way to alternate between two players in a game.\n",
    "        player = 3 - player"
   ]
  },
  {
   "cell_type": "code",
   "execution_count": 47,
   "metadata": {},
   "outputs": [
    {
     "data": {
      "text/plain": [
       "[{'agent': 0, 'state': array([0., 0., 0., 0., 0., 0., 0., 0., 0.])},\n",
       " {'agent': 1, 'state': array([0., 1., 0., 0., 0., 0., 0., 0., 0.])},\n",
       " {'agent': 2, 'state': array([0., 1., 0., 0., 2., 0., 0., 0., 0.])},\n",
       " {'agent': 1, 'state': array([0., 1., 0., 0., 2., 0., 1., 0., 0.])},\n",
       " {'agent': 2, 'state': array([0., 1., 0., 0., 2., 0., 1., 2., 0.])},\n",
       " {'agent': 1, 'state': array([0., 1., 0., 1., 2., 0., 1., 2., 0.])},\n",
       " {'agent': 2, 'state': array([0., 1., 0., 1., 2., 2., 1., 2., 0.])},\n",
       " {'agent': 1, 'state': array([1., 1., 0., 1., 2., 2., 1., 2., 0.])}]"
      ]
     },
     "execution_count": 47,
     "metadata": {},
     "output_type": "execute_result"
    }
   ],
   "source": [
    "simulate_game()"
   ]
  },
  {
   "cell_type": "code",
   "execution_count": 49,
   "metadata": {},
   "outputs": [],
   "source": [
    "def simulate_and_record_games(num_games, filename):\n",
    "    # save games to csv with single column board state \n",
    "    import csv\n",
    "    import os\n",
    "    \n",
    "    games = []\n",
    "    for _ in range(num_games):\n",
    "        game_states = simulate_game()\n",
    "        games.append(game_states)\n",
    "    \n",
    "    with open(filename, 'w', newline='') as file:\n",
    "        writer = csv.writer(file)\n",
    "        writer.writerow(['agent', 'state'])\n",
    "        for game in games:\n",
    "            for state in game:\n",
    "                # write as 1D list\n",
    "                writer.writerow([state['agent'], state['state']])\n",
    "                \n",
    "# Example usage:"
   ]
  },
  {
   "cell_type": "code",
   "execution_count": 53,
   "metadata": {},
   "outputs": [],
   "source": [
    "simulate_and_record_games(10, '../../processed/synthetic/tic-tac-toe.csv')"
   ]
  }
 ],
 "metadata": {
  "kernelspec": {
   "display_name": "venv",
   "language": "python",
   "name": "python3"
  },
  "language_info": {
   "codemirror_mode": {
    "name": "ipython",
    "version": 3
   },
   "file_extension": ".py",
   "mimetype": "text/x-python",
   "name": "python",
   "nbconvert_exporter": "python",
   "pygments_lexer": "ipython3",
   "version": "3.12.0"
  }
 },
 "nbformat": 4,
 "nbformat_minor": 2
}
